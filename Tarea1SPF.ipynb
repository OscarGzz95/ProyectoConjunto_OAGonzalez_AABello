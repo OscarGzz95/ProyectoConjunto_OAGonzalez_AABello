{
 "cells": [
  {
   "cell_type": "markdown",
   "metadata": {},
   "source": [
    "En este nuevo notebook el ESTUDIANTE 1, debe realizar una presentaci ́on describiendo\n",
    "sus  espectativas  del  curso  haciendo  uso  de  la  sintaxis  Markdown.  Tal  presentanci ́on\n",
    "debe de tener: los diferentes tipos de Encabezados, c ́odigo L\n",
    "A\n",
    "T\n",
    "E\n",
    "X(Algunas ecuaciones),\n",
    "im ́agenes y alguna tabla con informaci ́on variada.\n"
   ]
  },
  {
   "cell_type": "markdown",
   "metadata": {},
   "source": [
    "# Simulación de procesos financieros\n",
    "\n",
    "\n",
    "- <Strong> Nombre:</Strong> Aarón Alejandro Bello Aldrete \n",
    "- <Strong> Edad </Strong>: 22\n",
    "-  **Estudios** : Ing. Financiera\n",
    "-  **Email**: `aaronalejandrobello25@gmail.com` </font>\n",
    "\n",
    "\n",
    "\n",
    "- <Strong> Nombre:</Strong> Oscar González Zamora \n",
    "- <Strong> Edad </Strong>: 23\n",
    "-  **Estudios** : Ing. Financiera\n",
    "-  **Email**: `if694853@iteso.mx` </font>\n"
   ]
  },
  {
   "cell_type": "markdown",
   "metadata": {},
   "source": [
    "## `Espectativas del curso`"
   ]
  },
  {
   "cell_type": "markdown",
   "metadata": {},
   "source": [
    "Esperamos que en el curso podamos aprender a usar diferentes herramientas para pronosticar y aproximar el precio de diferentes valores\n",
    "\n",
    "<img style=\"left\" src=\"http://ciudadanosenaccion.mx/wp-content/uploads/2015/03/FINANZAS-PERSONALES.jpg\" width=\"200px\" height=\"200px\" alt=\"atom\" />"
   ]
  },
  {
   "cell_type": "markdown",
   "metadata": {},
   "source": [
    "Definamos algunas funciones\n",
    "\n",
    "$ f(x) = \\cos(x) - x$\n",
    "\n",
    "$\\int_{0}^{\\infty} x^{y} e^{-x} dx $"
   ]
  },
  {
   "cell_type": "markdown",
   "metadata": {},
   "source": [
    "\\begin{tabbing} \n",
    "Nombre \\= Apellido \\= Cal\\\\ \n",
    "Aaron \\> Bello \\> 10\\\\\n",
    "Oscar \\> Gonzalez \\> 10\\\\\n",
    "\\end{tabbing}\n"
   ]
  },
  {
   "cell_type": "markdown",
   "metadata": {},
   "source": []
  },
  {
   "cell_type": "code",
   "execution_count": null,
   "metadata": {},
   "outputs": [],
   "source": []
  }
 ],
 "metadata": {
  "kernelspec": {
   "display_name": "Python 3",
   "language": "python",
   "name": "python3"
  },
  "language_info": {
   "codemirror_mode": {
    "name": "ipython",
    "version": 3
   },
   "file_extension": ".py",
   "mimetype": "text/x-python",
   "name": "python",
   "nbconvert_exporter": "python",
   "pygments_lexer": "ipython3",
   "version": "3.6.4"
  }
 },
 "nbformat": 4,
 "nbformat_minor": 1
}
